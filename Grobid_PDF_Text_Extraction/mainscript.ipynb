{
 "cells": [
  {
   "cell_type": "code",
   "execution_count": null,
   "id": "9f14e5e3-8078-4ef8-aee5-4f3a135dae57",
   "metadata": {},
   "outputs": [],
   "source": [
    "import os\n",
    "import sys\n",
    "import glob\n",
    "import logging\n",
    "import json\n",
    "import xml.etree.ElementTree as ET\n",
    "\n",
    "from grobid_client.grobid_client import GrobidClient"
   ]
  },
  {
   "cell_type": "code",
   "execution_count": null,
   "id": "d466293b-a627-47a5-a57e-e2c44d7643a4",
   "metadata": {},
   "outputs": [],
   "source": [
    "# Set input and output directories\n",
    "input_dir = \"/home/kali/Documents/Grobid\"\n",
    "output_dir = \"/home/kali/Documents/Grobid/Output\"\n",
    "json_output_dir = \"/home/kali/Documents/Grobid/Output/JSON\""
   ]
  },
  {
   "cell_type": "code",
   "execution_count": null,
   "id": "179a567e-c7bd-45de-a9cd-d00076c40745",
   "metadata": {},
   "outputs": [],
   "source": [
    "# Create output directory if it doesn't exist\n",
    "if not os.path.exists(output_dir):\n",
    "    os.makedirs(output_dir)\n",
    "    \n",
    "# Create the JSON output directory if it doesn't exist\n",
    "if not os.path.exists(json_output_dir):\n",
    "    os.makedirs(json_output_dir)"
   ]
  },
  {
   "cell_type": "code",
   "execution_count": null,
   "id": "fd75afae-55f8-4166-8a1a-407f6cca8a99",
   "metadata": {},
   "outputs": [],
   "source": [
    "# Initialize Grobid client in the config.json file\n",
    "client = GrobidClient(config_path=\"./config.json\")"
   ]
  },
  {
   "cell_type": "code",
   "execution_count": null,
   "id": "a45844ad-d46c-4137-8107-9a3b34ee9f06",
   "metadata": {},
   "outputs": [],
   "source": [
    "# Set up logging\n",
    "logging.basicConfig(filename='pdf_extraction.log', level=logging.ERROR, format='%(asctime)s %(levelname)s: %(message)s')"
   ]
  },
  {
   "cell_type": "code",
   "execution_count": null,
   "id": "966e27b0-a914-4fe8-a763-84ebd672d4a7",
   "metadata": {},
   "outputs": [],
   "source": [
    "# Define the number of retries\n",
    "MAX_RETRIES = 1\n",
    "\n",
    "for i in range(MAX_RETRIES + 1):\n",
    "    try:\n",
    "        # Process the PDFs in the input directory\n",
    "        client.process(\"processFulltextDocument\", input_dir, output=output_dir, consolidate_citations=True, tei_coordinates=True, force=True)\n",
    "        print(f\"PDF extraction successful in attempt {i+1}/{MAX_RETRIES+1}\")\n",
    "        break\n",
    "    except Exception as e:\n",
    "        if i == MAX_RETRIES:\n",
    "            # If we've reached the maximum number of retries, log the error and re-raise the exception\n",
    "            logging.error(f\"PDF extraction failed after {MAX_RETRIES+1} attempts: {str(e)}\")\n",
    "            raise\n",
    "        else:\n",
    "            # If we haven't reached the maximum number of retries, log the error and try again\n",
    "            logging.error(f\"PDF extraction failed in attempt {i+1}/{MAX_RETRIES+1}: {str(e)}\")\n",
    "            print(f\"PDF extraction failed in attempt {i+1}/{MAX_RETRIES+1}. Retrying...\")"
   ]
  },
  {
   "cell_type": "code",
   "execution_count": null,
   "id": "e8076eca-b5b2-469f-857f-e47f9c3f11af",
   "metadata": {},
   "outputs": [],
   "source": [
    "# Convert XML files to JSON Lines files\n",
    "for filename in os.listdir(output_dir):\n",
    "    if filename.endswith(\".xml\"):\n",
    "\n",
    "        xml_file_path = os.path.join(output_dir, filename)\n",
    "        json_file_path = os.path.join(json_output_dir, f\"{filename[:-4]}.jsonl\")\n",
    "\n",
    "\n",
    "        try:\n",
    "            # Parse the XML file\n",
    "            tree = ET.parse(xml_file_path)\n",
    "            root = tree.getroot()\n",
    "\n",
    "            # Convert the XML to a JSON-serializable dictionary\n",
    "            data = {}\n",
    "            for elem in root.iter():\n",
    "                if elem.tag not in data:\n",
    "                    data[elem.tag] = []\n",
    "\n",
    "                data[elem.tag].append(elem.text)\n",
    "\n",
    "\n",
    "            # Write the JSON data to a file\n",
    "            with open(json_file_path, \"w\") as f:\n",
    "                json.dump(data, f)\n",
    "                f.write(\"\\n\")  # Add a newline character for JSON Lines format\n",
    "            print(f\"Converted {xml_file_path} to {json_file_path}\")\n",
    "        except Exception as e:\n",
    "            logging.error(f\"Error converting {xml_file_path} to JSON: {str(e)}\")"
   ]
  },
  {
   "cell_type": "code",
   "execution_count": null,
   "id": "2bd6aa3a-f5e5-44c4-8fe2-a0a645f8ebaa",
   "metadata": {},
   "outputs": [],
   "source": []
  },
  {
   "cell_type": "code",
   "execution_count": null,
   "id": "478fed60-272b-4294-9fb7-7dfd2ad437af",
   "metadata": {},
   "outputs": [],
   "source": []
  },
  {
   "cell_type": "code",
   "execution_count": null,
   "id": "8fa18c85-509b-47e9-82b5-5ce36932acd9",
   "metadata": {},
   "outputs": [],
   "source": []
  },
  {
   "cell_type": "code",
   "execution_count": null,
   "id": "8fc3b662-28d6-464d-8200-81aa27ef4edd",
   "metadata": {},
   "outputs": [],
   "source": []
  },
  {
   "cell_type": "code",
   "execution_count": null,
   "id": "3dece021-d15d-425d-826d-bf7874b84465",
   "metadata": {},
   "outputs": [],
   "source": []
  },
  {
   "cell_type": "code",
   "execution_count": null,
   "id": "2e7fc846-f59f-44a4-9221-dc8ef0130c27",
   "metadata": {},
   "outputs": [],
   "source": []
  },
  {
   "cell_type": "code",
   "execution_count": null,
   "id": "019ddacd-be9d-4052-82e6-4b2b1f2b4715",
   "metadata": {},
   "outputs": [],
   "source": []
  },
  {
   "cell_type": "code",
   "execution_count": null,
   "id": "dbf1c899-bb98-4661-9d4d-a531e1d07f0f",
   "metadata": {},
   "outputs": [],
   "source": []
  },
  {
   "cell_type": "code",
   "execution_count": null,
   "id": "fbd405ec-ae76-4320-b3c0-87433f4237c6",
   "metadata": {},
   "outputs": [],
   "source": []
  },
  {
   "cell_type": "code",
   "execution_count": null,
   "id": "6b27c951-8f91-495c-9fbd-6de8cb840728",
   "metadata": {},
   "outputs": [],
   "source": []
  },
  {
   "cell_type": "code",
   "execution_count": null,
   "id": "1969cb30-2488-4dac-8d13-f67211ba5913",
   "metadata": {},
   "outputs": [],
   "source": []
  },
  {
   "cell_type": "code",
   "execution_count": null,
   "id": "d41bb5cc-a885-42de-9ade-064e2ca93d76",
   "metadata": {},
   "outputs": [],
   "source": []
  },
  {
   "cell_type": "code",
   "execution_count": null,
   "id": "c390cfba-f0ea-46dc-9d6d-00f6e0a10a49",
   "metadata": {},
   "outputs": [],
   "source": []
  },
  {
   "cell_type": "code",
   "execution_count": null,
   "id": "dae05759-f19b-48b0-a13b-0b6f26fd5c76",
   "metadata": {},
   "outputs": [],
   "source": []
  },
  {
   "cell_type": "code",
   "execution_count": null,
   "id": "24fff368-da86-400d-94aa-659281f6c949",
   "metadata": {},
   "outputs": [],
   "source": []
  }
 ],
 "metadata": {
  "kernelspec": {
   "display_name": "Python 3 (ipykernel)",
   "language": "python",
   "name": "python3"
  },
  "language_info": {
   "codemirror_mode": {
    "name": "ipython",
    "version": 3
   },
   "file_extension": ".py",
   "mimetype": "text/x-python",
   "name": "python",
   "nbconvert_exporter": "python",
   "pygments_lexer": "ipython3",
   "version": "3.11.7"
  }
 },
 "nbformat": 4,
 "nbformat_minor": 5
}
