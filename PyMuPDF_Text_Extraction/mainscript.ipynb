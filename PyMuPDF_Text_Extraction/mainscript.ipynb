{
 "cells": [
  {
   "cell_type": "code",
   "execution_count": 56,
   "id": "78923317-0f29-4950-b157-e622dd38afe1",
   "metadata": {},
   "outputs": [],
   "source": [
    "import os\n",
    "import json\n",
    "import logging\n",
    "import multiprocessing\n",
    "import fitz  # PyMuPDF library\n",
    "import re"
   ]
  },
  {
   "cell_type": "code",
   "execution_count": 57,
   "id": "d78dcfa9-c519-49bd-9baf-9584fdd11caa",
   "metadata": {},
   "outputs": [],
   "source": [
    "# Set up logging\n",
    "logging.basicConfig(filename='text_extraction.log', level=logging.INFO,\n",
    "                    format='%(asctime)s - %(levelname)s - %(message)s')"
   ]
  },
  {
   "cell_type": "code",
   "execution_count": 58,
   "id": "5f748bc1-32e0-48ac-bc17-2f8c9742d0ef",
   "metadata": {},
   "outputs": [],
   "source": [
    "# Input and output folders\n",
    "input_dir = \"C:/Users/tinot/Downloads/PyMuPDF\"\n",
    "output_dir = \"C:/Users/tinot/Downloads/PyMuPDF/Output\""
   ]
  },
  {
   "cell_type": "code",
   "execution_count": 59,
   "id": "da6ae957-d24b-4852-94de-b2f0abce5da3",
   "metadata": {},
   "outputs": [],
   "source": [
    "# Create output directory if it doesn't exist\n",
    "if not os.path.exists(output_dir):\n",
    "    os.makedirs(output_dir)"
   ]
  },
  {
   "cell_type": "code",
   "execution_count": 60,
   "id": "58477c16-be0f-4629-affa-2aac81448309",
   "metadata": {},
   "outputs": [],
   "source": [
    "# Define function to extract text from a single PDF\n",
    "def extract_text_from_pdf(pdf_path):\n",
    "    try:\n",
    "        # Open the PDF document\n",
    "        doc = fitz.open(pdf_path)\n",
    "\n",
    "        # Initialize the extracted text\n",
    "        text = \"\"\n",
    "\n",
    "        # Loop through each page in the document\n",
    "        for page in doc:\n",
    "            # Extract the text from the page\n",
    "            page_text = page.get_text()\n",
    "\n",
    "            # Add the page text to the extracted text\n",
    "            text += page_text\n",
    "\n",
    "        # Clean the extracted text\n",
    "        text = clean_text(text)\n",
    "\n",
    "        # Return the cleaned text\n",
    "        return text\n",
    "\n",
    "    except Exception as e:\n",
    "        # Log the error and return None\n",
    "        logging.error(f\"Error extracting text from {pdf_path}: {e}\")\n",
    "        return None"
   ]
  },
  {
   "cell_type": "code",
   "execution_count": 61,
   "id": "23fa3337-f6d8-4364-906c-aadd45702958",
   "metadata": {},
   "outputs": [],
   "source": [
    "# Define function to clean the extracted text\n",
    "def clean_text(text):\n",
    "    # Remove unwanted characters\n",
    "    text = re.sub(r'[^\\w\\s]', '', text)\n",
    "\n",
    "    # Replace multiple whitespaces with a single space\n",
    "    text = re.sub(r'\\s+', ' ', text)\n",
    "\n",
    "    # Remove leading and trailing whitespaces\n",
    "    text = text.strip()\n",
    "\n",
    "    # Return the cleaned text\n",
    "    return text"
   ]
  },
  {
   "cell_type": "code",
   "execution_count": 62,
   "id": "3ae3d6b6-d63f-4cf2-827f-a74a1f423572",
   "metadata": {},
   "outputs": [],
   "source": [
    "# Define function to write cleaned text to JSON Lines file\n",
    "def write_text_to_jsonl(text, jsonl_path):\n",
    "    try:\n",
    "        # Write the cleaned text to the JSON Lines file\n",
    "        with open(jsonl_path, 'a') as f:\n",
    "            f.write(json.dumps(text) + '\\n')\n",
    "\n",
    "    except Exception as e:\n",
    "        # Log the error and return None\n",
    "        logging.error(f\"Error writing text to {jsonl_path}: {e}\")\n",
    "        return None\n",
    "\n",
    "# Loop through each PDF in the input directory\n",
    "for filename in os.listdir(input_dir):\n",
    "    if filename.endswith(\".pdf\"):\n",
    "        # Construct the full file paths\n",
    "        pdf_path = os.path.join(input_dir, filename)\n",
    "        jsonl_path = os.path.join(output_dir, filename.replace(\".pdf\", \".jsonl\"))\n",
    "\n",
    "        # Extract the text from the PDF\n",
    "        extracted_text = extract_text_from_pdf(pdf_path)\n",
    "\n",
    "        # Write the cleaned text to the JSON Lines file\n",
    "        if extracted_text is not None:\n",
    "            write_text_to_jsonl(extracted_text, jsonl_path)"
   ]
  },
  {
   "cell_type": "code",
   "execution_count": null,
   "id": "d6fb11b4-bd97-4bc5-8d06-fe74d5da0ca1",
   "metadata": {},
   "outputs": [],
   "source": []
  },
  {
   "cell_type": "code",
   "execution_count": null,
   "id": "dd57d14d-ef3d-4e63-942a-32ebeed74466",
   "metadata": {},
   "outputs": [],
   "source": []
  },
  {
   "cell_type": "code",
   "execution_count": null,
   "id": "33b06d98-00ba-46c3-ab4a-fd640892004c",
   "metadata": {},
   "outputs": [],
   "source": []
  }
 ],
 "metadata": {
  "kernelspec": {
   "display_name": "Python 3 (ipykernel)",
   "language": "python",
   "name": "python3"
  },
  "language_info": {
   "codemirror_mode": {
    "name": "ipython",
    "version": 3
   },
   "file_extension": ".py",
   "mimetype": "text/x-python",
   "name": "python",
   "nbconvert_exporter": "python",
   "pygments_lexer": "ipython3",
   "version": "3.11.7"
  }
 },
 "nbformat": 4,
 "nbformat_minor": 5
}
